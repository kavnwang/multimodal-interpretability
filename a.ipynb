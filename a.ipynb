{
 "cells": [
  {
   "cell_type": "code",
   "execution_count": 1,
   "metadata": {},
   "outputs": [],
   "source": [
    "import torch\n",
    "import nnsight\n",
    "from PIL import Image\n",
    "import os, json, argparse, itertools, math, torch, numpy as np\n",
    "from tqdm import tqdm\n",
    "from transformers import AutoProcessor\n",
    "from vllm.inputs import TextPrompt\n",
    "from nnsight.modeling.vllm import VLLM\n",
    "import einops\n",
    "import json\n",
    "\n",
    "torch.cuda.empty_cache()\n",
    "torch.cuda.ipc_collect()"
   ]
  },
  {
   "cell_type": "code",
   "execution_count": 2,
   "metadata": {},
   "outputs": [
    {
     "name": "stdout",
     "output_type": "stream",
     "text": [
      "LlavaForConditionalGeneration(\n",
      "  (vision_tower): CLIPVisionModel(\n",
      "    (vision_model): CLIPVisionTransformer(\n",
      "      (embeddings): CLIPVisionEmbeddings(\n",
      "        (patch_embedding): Conv2d(3, 1024, kernel_size=(14, 14), stride=(14, 14), bias=False)\n",
      "        (position_embedding): Embedding(577, 1024)\n",
      "      )\n",
      "      (pre_layrnorm): LayerNorm((1024,), eps=1e-05, elementwise_affine=True)\n",
      "      (encoder): CLIPEncoder(\n",
      "        (layers): ModuleList(\n",
      "          (0-22): 23 x CLIPEncoderLayer(\n",
      "            (self_attn): CLIPAttention(\n",
      "              (qkv_proj): QKVParallelLinear(in_features=1024, output_features=3072, bias=True, tp_size=1, gather_output=False)\n",
      "              (out_proj): RowParallelLinear(input_features=1024, output_features=1024, bias=True, tp_size=1, reduce_results=True)\n",
      "              (attn): MultiHeadAttention()\n",
      "            )\n",
      "            (layer_norm1): LayerNorm((1024,), eps=1e-05, elementwise_affine=True)\n",
      "            (mlp): CLIPMLP(\n",
      "              (activation_fn): QuickGELU()\n",
      "              (fc1): ColumnParallelLinear(in_features=1024, output_features=4096, bias=True, tp_size=1, gather_output=False)\n",
      "              (fc2): RowParallelLinear(input_features=4096, output_features=1024, bias=True, tp_size=1, reduce_results=True)\n",
      "            )\n",
      "            (layer_norm2): LayerNorm((1024,), eps=1e-05, elementwise_affine=True)\n",
      "          )\n",
      "        )\n",
      "      )\n",
      "    )\n",
      "  )\n",
      "  (multi_modal_projector): LlavaMultiModalProjector(\n",
      "    (linear_1): ColumnParallelLinear(in_features=1024, output_features=4096, bias=True, tp_size=1, gather_output=False)\n",
      "    (act): GELU(approximate='none')\n",
      "    (linear_2): RowParallelLinear(input_features=4096, output_features=4096, bias=True, tp_size=1, reduce_results=True)\n",
      "  )\n",
      "  (language_model): LlamaForCausalLM(\n",
      "    (model): LlamaModel(\n",
      "      (embed_tokens): VocabParallelEmbedding(num_embeddings=32064, embedding_dim=4096, org_vocab_size=32064, num_embeddings_padded=32064, tp_size=1)\n",
      "      (layers): ModuleList(\n",
      "        (0-31): 32 x LlamaDecoderLayer(\n",
      "          (self_attn): LlamaAttention(\n",
      "            (qkv_proj): QKVParallelLinear(in_features=4096, output_features=12288, bias=False, tp_size=1, gather_output=False)\n",
      "            (o_proj): RowParallelLinear(input_features=4096, output_features=4096, bias=False, tp_size=1, reduce_results=True)\n",
      "            (rotary_emb): RotaryEmbedding(head_size=128, rotary_dim=128, max_position_embeddings=4096, base=10000.0, is_neox_style=True)\n",
      "            (attn): Attention(head_size=128, num_heads=32, num_kv_heads=32, scale=0.08838834764831845, backend=FlashAttentionImpl)\n",
      "          )\n",
      "          (mlp): LlamaMLP(\n",
      "            (gate_up_proj): MergedColumnParallelLinear(in_features=4096, output_features=22016, bias=False, tp_size=1, gather_output=False)\n",
      "            (down_proj): RowParallelLinear(input_features=11008, output_features=4096, bias=False, tp_size=1, reduce_results=True)\n",
      "            (act_fn): SiluAndMul()\n",
      "          )\n",
      "          (input_layernorm): RMSNorm(hidden_size=4096, eps=1e-05)\n",
      "          (post_attention_layernorm): RMSNorm(hidden_size=4096, eps=1e-05)\n",
      "        )\n",
      "      )\n",
      "      (norm): RMSNorm(hidden_size=4096, eps=1e-05)\n",
      "    )\n",
      "    (lm_head): ParallelLMHead(num_embeddings=32064, embedding_dim=4096, org_vocab_size=32064, num_embeddings_padded=32064, tp_size=1)\n",
      "    (logits_processor): LogitsProcessor(vocab_size=32064, forg_vocab_size=32064, scale=1.0, logits_as_input=False)\n",
      "    (sampler): Sampler()\n",
      "  )\n",
      "  (logits): WrapperModule()\n",
      "  (tokens): WrapperModule()\n",
      ")\n"
     ]
    }
   ],
   "source": [
    "print(model)"
   ]
  },
  {
   "cell_type": "code",
   "execution_count": 4,
   "metadata": {},
   "outputs": [
    {
     "name": "stdout",
     "output_type": "stream",
     "text": [
      "2826\n",
      "5447\n"
     ]
    }
   ],
   "source": [
    "\n",
    "index = 1\n",
    "clean_image = Image.open(f'./scripts/dataset/clean-{index}.jpg')\n",
    "corrupted_image = Image.open(f'./scripts/dataset/corrupted-{index}.jpg')\n",
    "prompt = \" <image> The color of an apple is[/INST]\"\n",
    "clean_index = torch.tensor(model.tokenizer(\"button\").input_ids)[1].max().item()\n",
    "corrupted_index = torch.tensor(model.tokenizer(\"tree\").input_ids)[1].max().item()\n",
    "\n",
    "print(clean_index)\n",
    "print(corrupted_index)\n",
    "NUM_LAYERS = len(model.language_model.model.layers)\n",
    "NUM_HEADS = int(model.language_model.model.config.num_attention_heads)\n"
   ]
  },
  {
   "cell_type": "code",
   "execution_count": 6,
   "metadata": {},
   "outputs": [
    {
     "name": "stderr",
     "output_type": "stream",
     "text": [
      "Processed prompts: 100%|██████████| 1/1 [00:00<00:00, 14.97it/s, est. speed input: 8841.02 toks/s, output: 90.02 toks/s]\n"
     ]
    }
   ],
   "source": [
    "with model.trace(temperature=0.0, top_p=1.0) as tracer:\n",
    "  with tracer.invoke(TextPrompt(prompt=prompt,multi_modal_data={\"image\": clean_image})) as result:\n",
    "    model.language_model.model.layers[31].output[0][-1] = model.language_model.model.layers[31].output[0][-3]\n",
    "    model.language_model.model.layers[31].output[1][-1] = model.language_model.model.layers[31].output[1][-3]\n",
    "    logits = model.logits.output.save()"
   ]
  },
  {
   "cell_type": "code",
   "execution_count": 7,
   "metadata": {},
   "outputs": [
    {
     "ename": "NNsightError",
     "evalue": "Accessing value before it's been set.",
     "output_type": "error",
     "traceback": [
      "\u001b[0;31m---------------------------------------------------------------------------\u001b[0m",
      "\u001b[0;31mValueError\u001b[0m                                Traceback (most recent call last)",
      "File \u001b[0;32m/usr/local/lib/python3.10/dist-packages/nnsight/tracing/graph/node.py:294\u001b[0m, in \u001b[0;36mNode.execute\u001b[0;34m(self)\u001b[0m\n\u001b[1;32m    291\u001b[0m \u001b[38;5;28;01melse\u001b[39;00m:\n\u001b[1;32m    292\u001b[0m \n\u001b[1;32m    293\u001b[0m     \u001b[38;5;66;03m# Prepare arguments.\u001b[39;00m\n\u001b[0;32m--> 294\u001b[0m     args, kwargs \u001b[38;5;241m=\u001b[39m \u001b[38;5;28;43mself\u001b[39;49m\u001b[38;5;241;43m.\u001b[39;49m\u001b[43mprepare_inputs\u001b[49m\u001b[43m(\u001b[49m\u001b[43m(\u001b[49m\u001b[38;5;28;43mself\u001b[39;49m\u001b[38;5;241;43m.\u001b[39;49m\u001b[43margs\u001b[49m\u001b[43m,\u001b[49m\u001b[43m \u001b[49m\u001b[38;5;28;43mself\u001b[39;49m\u001b[38;5;241;43m.\u001b[39;49m\u001b[43mkwargs\u001b[49m\u001b[43m)\u001b[49m\u001b[43m)\u001b[49m\n\u001b[1;32m    296\u001b[0m     \u001b[38;5;66;03m# Call the target to get value.\u001b[39;00m\n",
      "File \u001b[0;32m/usr/local/lib/python3.10/dist-packages/nnsight/intervention/graph/node.py:72\u001b[0m, in \u001b[0;36mInterventionNode.prepare_inputs\u001b[0;34m(cls, inputs, device, fake)\u001b[0m\n\u001b[1;32m     70\u001b[0m     \u001b[38;5;28;01mreturn\u001b[39;00m value\n\u001b[0;32m---> 72\u001b[0m inputs \u001b[38;5;241m=\u001b[39m \u001b[43mutil\u001b[49m\u001b[38;5;241;43m.\u001b[39;49m\u001b[43mapply\u001b[49m\u001b[43m(\u001b[49m\n\u001b[1;32m     73\u001b[0m \u001b[43m    \u001b[49m\u001b[43minputs\u001b[49m\u001b[43m,\u001b[49m\u001b[43m \u001b[49m\u001b[43minner\u001b[49m\u001b[43m,\u001b[49m\u001b[43m \u001b[49m\u001b[43m(\u001b[49m\u001b[43mInterventionNode\u001b[49m\u001b[43m,\u001b[49m\u001b[43m \u001b[49m\u001b[43mProxy\u001b[49m\u001b[43m,\u001b[49m\u001b[43m \u001b[49m\u001b[43mtorch\u001b[49m\u001b[38;5;241;43m.\u001b[39;49m\u001b[43mTensor\u001b[49m\u001b[43m)\u001b[49m\u001b[43m,\u001b[49m\u001b[43m \u001b[49m\u001b[43minplace\u001b[49m\u001b[38;5;241;43m=\u001b[39;49m\u001b[38;5;129;43;01mnot\u001b[39;49;00m\u001b[43m \u001b[49m\u001b[43mfake\u001b[49m\n\u001b[1;32m     74\u001b[0m \u001b[43m\u001b[49m\u001b[43m)\u001b[49m\n\u001b[1;32m     76\u001b[0m \u001b[38;5;28;01mif\u001b[39;00m device \u001b[38;5;129;01mis\u001b[39;00m \u001b[38;5;129;01mnot\u001b[39;00m \u001b[38;5;28;01mNone\u001b[39;00m:\n",
      "File \u001b[0;32m/usr/local/lib/python3.10/dist-packages/nnsight/util.py:44\u001b[0m, in \u001b[0;36mapply\u001b[0;34m(data, fn, cls, inplace)\u001b[0m\n\u001b[1;32m     43\u001b[0m \u001b[38;5;28;01melif\u001b[39;00m data_type \u001b[38;5;241m==\u001b[39m \u001b[38;5;28mtuple\u001b[39m:\n\u001b[0;32m---> 44\u001b[0m     \u001b[38;5;28;01mreturn\u001b[39;00m \u001b[38;5;28mtuple\u001b[39m([apply(_data, fn, \u001b[38;5;28mcls\u001b[39m, inplace\u001b[38;5;241m=\u001b[39minplace) \u001b[38;5;28;01mfor\u001b[39;00m _data \u001b[38;5;129;01min\u001b[39;00m data])\n\u001b[1;32m     46\u001b[0m \u001b[38;5;28;01melif\u001b[39;00m data_type \u001b[38;5;241m==\u001b[39m \u001b[38;5;28mdict\u001b[39m:\n",
      "File \u001b[0;32m/usr/local/lib/python3.10/dist-packages/nnsight/util.py:44\u001b[0m, in \u001b[0;36m<listcomp>\u001b[0;34m(.0)\u001b[0m\n\u001b[1;32m     43\u001b[0m \u001b[38;5;28;01melif\u001b[39;00m data_type \u001b[38;5;241m==\u001b[39m \u001b[38;5;28mtuple\u001b[39m:\n\u001b[0;32m---> 44\u001b[0m     \u001b[38;5;28;01mreturn\u001b[39;00m \u001b[38;5;28mtuple\u001b[39m([\u001b[43mapply\u001b[49m\u001b[43m(\u001b[49m\u001b[43m_data\u001b[49m\u001b[43m,\u001b[49m\u001b[43m \u001b[49m\u001b[43mfn\u001b[49m\u001b[43m,\u001b[49m\u001b[43m \u001b[49m\u001b[38;5;28;43mcls\u001b[39;49m\u001b[43m,\u001b[49m\u001b[43m \u001b[49m\u001b[43minplace\u001b[49m\u001b[38;5;241;43m=\u001b[39;49m\u001b[43minplace\u001b[49m\u001b[43m)\u001b[49m \u001b[38;5;28;01mfor\u001b[39;00m _data \u001b[38;5;129;01min\u001b[39;00m data])\n\u001b[1;32m     46\u001b[0m \u001b[38;5;28;01melif\u001b[39;00m data_type \u001b[38;5;241m==\u001b[39m \u001b[38;5;28mdict\u001b[39m:\n",
      "File \u001b[0;32m/usr/local/lib/python3.10/dist-packages/nnsight/util.py:39\u001b[0m, in \u001b[0;36mapply\u001b[0;34m(data, fn, cls, inplace)\u001b[0m\n\u001b[1;32m     38\u001b[0m \u001b[38;5;28;01mfor\u001b[39;00m idx, _data \u001b[38;5;129;01min\u001b[39;00m \u001b[38;5;28menumerate\u001b[39m(data):\n\u001b[0;32m---> 39\u001b[0m     data[idx] \u001b[38;5;241m=\u001b[39m \u001b[43mapply\u001b[49m\u001b[43m(\u001b[49m\u001b[43m_data\u001b[49m\u001b[43m,\u001b[49m\u001b[43m \u001b[49m\u001b[43mfn\u001b[49m\u001b[43m,\u001b[49m\u001b[43m \u001b[49m\u001b[38;5;28;43mcls\u001b[39;49m\u001b[43m,\u001b[49m\u001b[43m \u001b[49m\u001b[43minplace\u001b[49m\u001b[38;5;241;43m=\u001b[39;49m\u001b[43minplace\u001b[49m\u001b[43m)\u001b[49m\n\u001b[1;32m     40\u001b[0m \u001b[38;5;28;01mreturn\u001b[39;00m data\n",
      "File \u001b[0;32m/usr/local/lib/python3.10/dist-packages/nnsight/util.py:32\u001b[0m, in \u001b[0;36mapply\u001b[0;34m(data, fn, cls, inplace)\u001b[0m\n\u001b[1;32m     31\u001b[0m \u001b[38;5;28;01mif\u001b[39;00m \u001b[38;5;28misinstance\u001b[39m(data, \u001b[38;5;28mcls\u001b[39m):\n\u001b[0;32m---> 32\u001b[0m     \u001b[38;5;28;01mreturn\u001b[39;00m \u001b[43mfn\u001b[49m\u001b[43m(\u001b[49m\u001b[43mdata\u001b[49m\u001b[43m)\u001b[49m\n\u001b[1;32m     34\u001b[0m data_type \u001b[38;5;241m=\u001b[39m \u001b[38;5;28mtype\u001b[39m(data)\n",
      "File \u001b[0;32m/usr/local/lib/python3.10/dist-packages/nnsight/intervention/graph/node.py:65\u001b[0m, in \u001b[0;36mInterventionNode.prepare_inputs.<locals>.inner\u001b[0;34m(value)\u001b[0m\n\u001b[1;32m     64\u001b[0m     \u001b[38;5;28;01melse\u001b[39;00m:\n\u001b[0;32m---> 65\u001b[0m         value \u001b[38;5;241m=\u001b[39m \u001b[43mvalue\u001b[49m\u001b[38;5;241;43m.\u001b[39;49m\u001b[43mvalue\u001b[49m\n\u001b[1;32m     67\u001b[0m \u001b[38;5;28;01mif\u001b[39;00m device \u001b[38;5;129;01mis\u001b[39;00m \u001b[38;5;28;01mNone\u001b[39;00m \u001b[38;5;129;01mand\u001b[39;00m \u001b[38;5;28misinstance\u001b[39m(value, torch\u001b[38;5;241m.\u001b[39mTensor):\n",
      "File \u001b[0;32m/usr/local/lib/python3.10/dist-packages/nnsight/tracing/graph/node.py:143\u001b[0m, in \u001b[0;36mNode.value\u001b[0;34m(self)\u001b[0m\n\u001b[1;32m    142\u001b[0m \u001b[38;5;28;01mif\u001b[39;00m \u001b[38;5;129;01mnot\u001b[39;00m \u001b[38;5;28mself\u001b[39m\u001b[38;5;241m.\u001b[39mdone:\n\u001b[0;32m--> 143\u001b[0m     \u001b[38;5;28;01mraise\u001b[39;00m \u001b[38;5;167;01mValueError\u001b[39;00m(\u001b[38;5;124m\"\u001b[39m\u001b[38;5;124mAccessing value before it\u001b[39m\u001b[38;5;124m'\u001b[39m\u001b[38;5;124ms been set.\u001b[39m\u001b[38;5;124m\"\u001b[39m)\n\u001b[1;32m    145\u001b[0m \u001b[38;5;28;01mreturn\u001b[39;00m \u001b[38;5;28mself\u001b[39m\u001b[38;5;241m.\u001b[39m_value\n",
      "\u001b[0;31mValueError\u001b[0m: Accessing value before it's been set.",
      "\nDuring handling of the above exception, another exception occurred:\n",
      "\u001b[0;31mNNsightError\u001b[0m                              Traceback (most recent call last)",
      "Cell \u001b[0;32mIn[7], line 1\u001b[0m\n\u001b[0;32m----> 1\u001b[0m i \u001b[38;5;241m=\u001b[39m \u001b[43mlogits\u001b[49m\u001b[38;5;241;43m.\u001b[39;49m\u001b[43margmax\u001b[49m()\u001b[38;5;241m.\u001b[39mitem()\n\u001b[1;32m      2\u001b[0m \u001b[38;5;28mprint\u001b[39m(model\u001b[38;5;241m.\u001b[39mtokenizer\u001b[38;5;241m.\u001b[39mdecode(i))\n",
      "File \u001b[0;32m/usr/local/lib/python3.10/dist-packages/nnsight/tracing/graph/proxy.py:102\u001b[0m, in \u001b[0;36mProxy.__getattr__\u001b[0;34m(self, key)\u001b[0m\n\u001b[1;32m    101\u001b[0m \u001b[38;5;28;01mdef\u001b[39;00m \u001b[38;5;21m__getattr__\u001b[39m(\u001b[38;5;28mself\u001b[39m, key: Union[Self, Any]) \u001b[38;5;241m-\u001b[39m\u001b[38;5;241m>\u001b[39m Self:\n\u001b[0;32m--> 102\u001b[0m     \u001b[38;5;28;01mreturn\u001b[39;00m \u001b[38;5;28;43mself\u001b[39;49m\u001b[38;5;241;43m.\u001b[39;49m\u001b[43mnode\u001b[49m\u001b[38;5;241;43m.\u001b[39;49m\u001b[43mcreate\u001b[49m\u001b[43m(\u001b[49m\u001b[43mutil\u001b[49m\u001b[38;5;241;43m.\u001b[39;49m\u001b[43mfetch_attr\u001b[49m\u001b[43m,\u001b[49m\u001b[43m \u001b[49m\u001b[38;5;28;43mself\u001b[39;49m\u001b[38;5;241;43m.\u001b[39;49m\u001b[43mnode\u001b[49m\u001b[43m,\u001b[49m\u001b[43m \u001b[49m\u001b[43mkey\u001b[49m\u001b[43m)\u001b[49m\n",
      "File \u001b[0;32m/usr/local/lib/python3.10/dist-packages/nnsight/tracing/graph/node.py:239\u001b[0m, in \u001b[0;36mNode.create\u001b[0;34m(self, *args, **kwargs)\u001b[0m\n\u001b[1;32m    236\u001b[0m node\u001b[38;5;241m.\u001b[39mremaining_listeners \u001b[38;5;241m=\u001b[39m \u001b[38;5;241m1\u001b[39m\n\u001b[1;32m    238\u001b[0m \u001b[38;5;66;03m# Execute Node\u001b[39;00m\n\u001b[0;32m--> 239\u001b[0m \u001b[43mnode\u001b[49m\u001b[38;5;241;43m.\u001b[39;49m\u001b[43mexecute\u001b[49m\u001b[43m(\u001b[49m\u001b[43m)\u001b[49m\n\u001b[1;32m    241\u001b[0m \u001b[38;5;66;03m# Get value.\u001b[39;00m\n\u001b[1;32m    242\u001b[0m value \u001b[38;5;241m=\u001b[39m node\u001b[38;5;241m.\u001b[39mvalue\n",
      "File \u001b[0;32m/usr/local/lib/python3.10/dist-packages/nnsight/tracing/graph/node.py:306\u001b[0m, in \u001b[0;36mNode.execute\u001b[0;34m(self)\u001b[0m\n\u001b[1;32m    304\u001b[0m \u001b[38;5;28;01mexcept\u001b[39;00m \u001b[38;5;167;01mException\u001b[39;00m \u001b[38;5;28;01mas\u001b[39;00m e:\n\u001b[1;32m    305\u001b[0m     traceback_content \u001b[38;5;241m=\u001b[39m traceback\u001b[38;5;241m.\u001b[39mformat_exc()\n\u001b[0;32m--> 306\u001b[0m     \u001b[38;5;28;01mraise\u001b[39;00m NNsightError(\u001b[38;5;28mstr\u001b[39m(e), \u001b[38;5;28mself\u001b[39m\u001b[38;5;241m.\u001b[39mindex, traceback_content)\n",
      "\u001b[0;31mNNsightError\u001b[0m: Accessing value before it's been set."
     ]
    }
   ],
   "source": [
    "\n",
    "i = logits.argmax().item()\n",
    "print(model.tokenizer.decode(i))\n"
   ]
  },
  {
   "cell_type": "code",
   "execution_count": 2,
   "metadata": {},
   "outputs": [
    {
     "name": "stdout",
     "output_type": "stream",
     "text": [
      "INFO 05-04 13:20:06 config.py:1861] Downcasting torch.float32 to torch.float16.\n",
      "INFO 05-04 13:20:10 llm_engine.py:249] Initializing an LLM engine (v0.6.4.post1) with config: model='gpt2', speculative_config=None, tokenizer='gpt2', skip_tokenizer_init=False, tokenizer_mode=auto, revision=None, override_neuron_config=None, tokenizer_revision=None, trust_remote_code=False, dtype=torch.float16, max_seq_len=1024, download_dir=None, load_format=LoadFormat.AUTO, tensor_parallel_size=1, pipeline_parallel_size=1, disable_custom_all_reduce=False, quantization=None, enforce_eager=False, kv_cache_dtype=auto, quantization_param_path=None, device_config=cuda, decoding_config=DecodingConfig(guided_decoding_backend='outlines'), observability_config=ObservabilityConfig(otlp_traces_endpoint=None, collect_model_forward_time=False, collect_model_execute_time=False), seed=0, served_model_name=gpt2, num_scheduler_steps=1, chunked_prefill_enabled=False multi_step_stream_outputs=True, enable_prefix_caching=False, use_async_output_proc=True, use_cached_outputs=False, chat_template_text_format=string, mm_processor_kwargs=None, pooler_config=None)\n",
      "INFO 05-04 13:20:10 selector.py:135] Using Flash Attention backend.\n",
      "INFO 05-04 13:20:11 model_runner.py:1072] Starting to load model gpt2...\n",
      "INFO 05-04 13:20:11 weight_utils.py:243] Using model weights format ['*.safetensors']\n",
      "INFO 05-04 13:20:11 weight_utils.py:288] No model.safetensors.index.json found in remote.\n"
     ]
    },
    {
     "data": {
      "application/vnd.jupyter.widget-view+json": {
       "model_id": "9bf0d65569c54168994bd2efd5f604a1",
       "version_major": 2,
       "version_minor": 0
      },
      "text/plain": [
       "Loading safetensors checkpoint shards:   0% Completed | 0/1 [00:00<?, ?it/s]\n"
      ]
     },
     "metadata": {},
     "output_type": "display_data"
    },
    {
     "name": "stdout",
     "output_type": "stream",
     "text": [
      "INFO 05-04 13:20:11 model_runner.py:1077] Loading model weights took 0.2378 GB\n",
      "INFO 05-04 13:20:12 worker.py:232] Memory profiling results: total_gpu_memory=139.72GiB initial_memory_usage=0.85GiB peak_torch_memory=0.73GiB memory_usage_post_profile=0.95GiB non_torch_memory=0.68GiB kv_cache_size=124.34GiB gpu_memory_utilization=0.90\n",
      "INFO 05-04 13:20:12 gpu_executor.py:113] # GPU blocks: 226353, # CPU blocks: 7281\n",
      "INFO 05-04 13:20:12 gpu_executor.py:117] Maximum concurrency for 1024 tokens per request: 3536.77x\n",
      "INFO 05-04 13:20:14 model_runner.py:1400] Capturing cudagraphs for decoding. This may lead to unexpected consequences if the model is not static. To run the model in eager mode, set 'enforce_eager=True' or use '--enforce-eager' in the CLI.\n",
      "INFO 05-04 13:20:14 model_runner.py:1404] If out-of-memory error occurs during cudagraph capture, consider decreasing `gpu_memory_utilization` or switching to eager mode. You can also reduce the `max_num_seqs` as needed to decrease memory usage.\n",
      "INFO 05-04 13:20:20 model_runner.py:1518] Graph capturing finished in 6 secs, took 0.18 GiB\n"
     ]
    }
   ],
   "source": [
    "vllm = VLLM(\"gpt2\", device = \"auto\", dispatch = True)"
   ]
  },
  {
   "cell_type": "code",
   "execution_count": 3,
   "metadata": {},
   "outputs": [
    {
     "name": "stdout",
     "output_type": "stream",
     "text": [
      "GPT2LMHeadModel(\n",
      "  (transformer): GPT2Model(\n",
      "    (wte): VocabParallelEmbedding(num_embeddings=50304, embedding_dim=768, org_vocab_size=50257, num_embeddings_padded=50304, tp_size=1)\n",
      "    (wpe): Embedding(1024, 768)\n",
      "    (h): ModuleList(\n",
      "      (0-11): 12 x GPT2Block(\n",
      "        (ln_1): LayerNorm((768,), eps=1e-05, elementwise_affine=True)\n",
      "        (attn): GPT2Attention(\n",
      "          (c_attn): QKVParallelLinear(in_features=768, output_features=2304, bias=True, tp_size=1, gather_output=False)\n",
      "          (c_proj): RowParallelLinear(input_features=768, output_features=768, bias=True, tp_size=1, reduce_results=True)\n",
      "          (attn): Attention(head_size=64, num_heads=12, num_kv_heads=12, scale=0.125, backend=FlashAttentionImpl)\n",
      "        )\n",
      "        (ln_2): LayerNorm((768,), eps=1e-05, elementwise_affine=True)\n",
      "        (mlp): GPT2MLP(\n",
      "          (c_fc): ColumnParallelLinear(in_features=768, output_features=3072, bias=True, tp_size=1, gather_output=False)\n",
      "          (c_proj): RowParallelLinear(input_features=3072, output_features=768, bias=True, tp_size=1, reduce_results=True)\n",
      "          (act): NewGELU()\n",
      "        )\n",
      "      )\n",
      "    )\n",
      "    (ln_f): LayerNorm((768,), eps=1e-05, elementwise_affine=True)\n",
      "  )\n",
      "  (lm_head): VocabParallelEmbedding(num_embeddings=50304, embedding_dim=768, org_vocab_size=50257, num_embeddings_padded=50304, tp_size=1)\n",
      "  (logits_processor): LogitsProcessor(vocab_size=50257, forg_vocab_size=50257, scale=1.0, logits_as_input=False)\n",
      "  (sampler): Sampler()\n",
      "  (logits): WrapperModule()\n",
      "  (samples): WrapperModule()\n",
      ")\n"
     ]
    }
   ],
   "source": [
    "print(vllm)"
   ]
  },
  {
   "cell_type": "code",
   "execution_count": 4,
   "metadata": {},
   "outputs": [
    {
     "name": "stdout",
     "output_type": "stream",
     "text": [
      "The history saving thread hit an unexpected error (IndexError('list index out of range')).History will not be written to the database.\n"
     ]
    },
    {
     "name": "stderr",
     "output_type": "stream",
     "text": [
      "IOStream.flush timed out\n",
      "Processed prompts: 100%|██████████| 2/2 [00:00<00:00, 219.45it/s, est. speed input: 2436.81 toks/s, output: 221.36 toks/s]\n"
     ]
    }
   ],
   "source": [
    "with vllm.trace(temperature=0.0, top_p=1.0, max_tokens=1) as tracer:\n",
    "  with tracer.invoke(\"The Eiffel Tower is located in the city of\"):\n",
    "    clean_logits = vllm.logits.output.save()\n",
    "\n",
    "  with tracer.invoke(\"The Eiffel Tower is located in the city of\"):\n",
    "    vllm.transformer.h[-2].mlp.output[:] = 0\n",
    "    corrupted_logits = vllm.logits.output.save()\n"
   ]
  },
  {
   "cell_type": "code",
   "execution_count": 4,
   "metadata": {},
   "outputs": [
    {
     "name": "stderr",
     "output_type": "stream",
     "text": [
      "Processed prompts: 100%|██████████| 2/2 [00:00<00:00, 122.40it/s, est. speed input: 1352.92 toks/s, output: 122.94 toks/s]\n"
     ]
    }
   ],
   "source": [
    "with vllm.trace(temperature=0.0, top_p=1.0, max_tokens=1) as tracer:\n",
    "  with tracer.invoke(\"The Eiffel Tower is located in the city of\"):\n",
    "    clean_logits = vllm.logits.output.save()\n",
    "\n",
    "  with tracer.invoke(\"The Eiffel Tower is located in the city of\"):\n",
    "    vllm.transformer.h[-2].mlp.output[:] = 0\n",
    "    corrupted_logits = vllm.logits.output.save()\n"
   ]
  },
  {
   "cell_type": "code",
   "execution_count": 5,
   "metadata": {},
   "outputs": [
    {
     "name": "stdout",
     "output_type": "stream",
     "text": [
      "\n",
      "CLEAN - The Eiffel Tower is located in the city of  Paris\n",
      "\n",
      "CORRUPTED - The Eiffel Tower is located in the city of  London\n"
     ]
    }
   ],
   "source": [
    "print(\"\\nCLEAN - The Eiffel Tower is located in the city of\", vllm.tokenizer.decode(clean_logits.argmax(dim=-1)))\n",
    "print(\"\\nCORRUPTED - The Eiffel Tower is located in the city of\", vllm.tokenizer.decode(corrupted_logits.argmax(dim=-1)))\n"
   ]
  }
 ],
 "metadata": {
  "kernelspec": {
   "display_name": "Python 3",
   "language": "python",
   "name": "python3"
  },
  "language_info": {
   "codemirror_mode": {
    "name": "ipython",
    "version": 3
   },
   "file_extension": ".py",
   "mimetype": "text/x-python",
   "name": "python",
   "nbconvert_exporter": "python",
   "pygments_lexer": "ipython3",
   "version": "3.10.12"
  }
 },
 "nbformat": 4,
 "nbformat_minor": 2
}
